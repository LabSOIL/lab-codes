{
 "cells": [
  {
   "cell_type": "code",
   "execution_count": null,
   "id": "1510a0fb",
   "metadata": {},
   "outputs": [],
   "source": [
    "# After importing the data, there are\n",
    "\n",
    "# 8 measurements in the file\n",
    "# The steps are, for each of the measurements:\n",
    "# 1. Plot each measurement\n",
    "# 2. Perform baseline subtractions\n",
    "# 3. Determine the peaks\n",
    "# 4. For each peak:\n",
    "#    a. Find the the maximum value (beginning/end of peak?)\n",
    "#    b. The integral of the peak\n",
    "#    c. The time at which the peak reaches its maximum value.  (??)\n",
    "# 5. Output the calculated data to a file, and plot it data."
   ]
  },
  {
   "cell_type": "code",
   "execution_count": null,
   "id": "b6e842e4",
   "metadata": {},
   "outputs": [],
   "source": [
    "# import plotly.plotly as py\n",
    "import plotly.graph_objs as go\n",
    "import plotly.tools as tools\n",
    "import plotly.figure_factory as ff\n",
    "from plotly.subplots import make_subplots\n",
    "import plotly.graph_objs as go\n",
    "import pandas as pd\n",
    "import numpy as np\n",
    "from scipy.interpolate import interp1d, splrep, splev\n",
    "import plotly.express as px\n",
    "import numpy as np\n",
    "import pandas as pd\n",
    "import scipy\n",
    "import peakutils\n",
    "from dataclasses import dataclass\n",
    "from typing import List"
   ]
  },
  {
   "cell_type": "code",
   "execution_count": null,
   "id": "4a7d8397",
   "metadata": {},
   "outputs": [],
   "source": [
    "# @dataclass\n",
    "# class Sample:\n",
    "#     peak_start_idx: int | None\n",
    "#     peak_end_idx: int | None\n",
    "#     peak_max_idx: int | None\n",
    "#     integrated_area: float | None\n",
    "    \n",
    "# @dataclass\n",
    "# class Measurement:\n",
    "#     id: str | None\n",
    "#     samples: List[Sample] | None\n",
    "        \n",
    "# Measurement('i8/A', [])"
   ]
  },
  {
   "cell_type": "markdown",
   "id": "b7f0de40",
   "metadata": {},
   "source": [
    " # Import the data file"
   ]
  },
  {
   "cell_type": "code",
   "execution_count": null,
   "id": "1a6d4329",
   "metadata": {
    "scrolled": false
   },
   "outputs": [],
   "source": [
    "\n",
    "\n",
    "\n",
    "# Import data\n",
    "df = pd.read_csv(\"Example_input.txt\", header=25)\n",
    "df.set_index('Time/s', inplace=True)\n",
    "df.columns = df.columns.str.strip()  # Strip whitespace from the columns\n",
    "\n",
    "\n",
    "# Create a dictionary for each column to store specific properties\n",
    "measurements = {}\n",
    "for col in df.columns:\n",
    "    print(col)\n",
    "    measurements[col] = {\n",
    "        \"baseline_spline_points\": []  # Store selected baseline points\n",
    "    }\n",
    "    \n",
    "    \n",
    "# Add the subplots for each column\n",
    "rows = 4\n",
    "cols = 2\n",
    "fig = go.FigureWidget(make_subplots(rows=rows, cols=cols))\n",
    "# sample_count = input(\"How many samples are considered in the data?\")\n",
    "sample_count = 3  # For now, change this to an input\n",
    "\n",
    "x = 0  # Column iterator. Assumes len(rows) + len(cols) == len(df.columns)\n",
    "for row in [1, 2, 3, 4]:\n",
    "    for col in [1, 2]:\n",
    "        fig.add_trace(\n",
    "            go.Scattergl(\n",
    "                x=df.index, \n",
    "                y=df[df.columns[x]].values,\n",
    "                name = df.columns[x],\n",
    "                mode = 'lines+markers',\n",
    "            ),\n",
    "            row=row,\n",
    "            col=col\n",
    "        )\n",
    "        \n",
    "        chosen_points = sorted(measurements[df.columns[x]]['baseline_spline_points'])\n",
    "\n",
    "        tck = splrep(df[df.columns[x]].index, df[df.columns[x]], t=df.loc[chosen_points].index, k=3)\n",
    "        splinepoints = splev(df[df.columns[x]].index, tck)\n",
    "        \n",
    "        fig.add_trace(\n",
    "            go.Scatter(\n",
    "                x=df.index,\n",
    "                y=splinepoints,\n",
    "                mode='lines',\n",
    "                name=f\"spline_{df.columns[x]}\",\n",
    "                marker=dict(line=dict(color='black', width=2)),\n",
    "            ),\n",
    "            row=row,\n",
    "            col=col\n",
    "        )\n",
    "        \n",
    "        x=x+1  # Increment column assigned to \n",
    "\n",
    "        \n",
    "DEFAULT_POINT_SIZE = 0\n",
    "DEFAULT_POINT_COLOUR = '#a3a7e4'\n",
    "        \n",
    "clicked_points = []\n",
    "# create our callback function\n",
    "def update_point(trace, points, selector):\n",
    "    # Must iterate through each plot in the subplot as everytime on_click is actuated, it returns a list\n",
    "    for i, subplot in enumerate(fig.data):  \n",
    "        if (\n",
    "            i == points.trace_index \n",
    "            and len(points.point_inds)\n",
    "#             and 'spline' not in points.trace_name\n",
    "        ):  # Make sure we're working on the plot with changes\n",
    "            point_color = list(subplot.marker.color)\n",
    "            point_size = list(subplot.marker.size)\n",
    "            \n",
    "            for j in points.point_inds:\n",
    "                # Point is given in a list, but we only click one at a time, unwrap it\n",
    "                clicked_point = points.xs[0]\n",
    "                # If a user clicks on the same point twice\n",
    "                if clicked_point in measurements[points.trace_name]['baseline_spline_points']:\n",
    "#                 if point_size[j] == 20:\n",
    "                    print(f\"Removing {clicked_point}\")\n",
    "                    point_color[j] = DEFAULT_POINT_COLOUR\n",
    "                    point_size[j] = DEFAULT_POINT_SIZE\n",
    "                    measurements[points.trace_name]['baseline_spline_points'].remove(clicked_point)\n",
    "                else:\n",
    "                    point_color[j] = '#2F4F4F'\n",
    "                    point_size[j] = 20\n",
    "                    measurements[points.trace_name]['baseline_spline_points'].append(clicked_point)\n",
    "                \n",
    "                with fig.batch_update():\n",
    "                    subplot.marker.color = point_color\n",
    "                    subplot.marker.size = point_size\n",
    "                    print(f\"x: {points.xs}, y:{points.ys} plot:{points.trace_index} ({subplot.name})\")\n",
    "                    \n",
    "                    clicked_points.append((clicked_point, *points.ys))\n",
    "\n",
    "                    \n",
    "\n",
    "                    \n",
    "                    for splineplot in fig.data:\n",
    "                        if splineplot.name == f\"spline_{points.trace_name}\":\n",
    "                            chosen_points = sorted(measurements[points.trace_name]['baseline_spline_points'])\n",
    "                            tck = splrep(df[points.trace_name].index, df[points.trace_name], t=df.loc[chosen_points].index, k=3)\n",
    "                            splinepoints = splev(df[points.trace_name].index, tck)\n",
    "                            splineplot.y = splinepoints\n",
    "                    print(measurements[points.trace_name]['baseline_spline_points'])\n",
    "\n",
    "for subfig in fig.data:\n",
    "    subfig.on_click(update_point)  # Callback for updating on click\n",
    "    if 'spline' not in subfig.name:\n",
    "        colors = [DEFAULT_POINT_COLOUR] * len(df)  \n",
    "        subfig.marker.color = [DEFAULT_POINT_COLOUR] * len(df)  # Define the colour of points on first load\n",
    "        subfig.marker.size = [DEFAULT_POINT_SIZE] * len(df)     # Same for size\n",
    "        subfig.marker.line.color='DarkSlateGrey'\n",
    "        subfig.marker.line.width=0\n",
    "\n",
    "# Format and show fig\n",
    "fig.update_layout(height=900, width=900, margin=dict(l=1, r=1, t=10, b=1))\n",
    "fig"
   ]
  },
  {
   "cell_type": "markdown",
   "id": "e9361203",
   "metadata": {},
   "source": [
    "# Subtract the baseline"
   ]
  },
  {
   "cell_type": "code",
   "execution_count": null,
   "id": "056eb866",
   "metadata": {
    "scrolled": false
   },
   "outputs": [],
   "source": [
    "pd.DataFrame(peakutils.baseline(df[' i1/A'], 3)).plot()"
   ]
  },
  {
   "cell_type": "code",
   "execution_count": null,
   "id": "a8f67185",
   "metadata": {},
   "outputs": [],
   "source": [
    "pd.DataFrame()"
   ]
  },
  {
   "cell_type": "markdown",
   "id": "4978c839",
   "metadata": {},
   "source": [
    "# Select start:end of peak"
   ]
  },
  {
   "cell_type": "markdown",
   "id": "594414ef",
   "metadata": {},
   "source": [
    "# Integrate area in peak"
   ]
  },
  {
   "cell_type": "markdown",
   "id": "e358b664",
   "metadata": {},
   "source": [
    "# Find the peaks in the data"
   ]
  },
  {
   "cell_type": "code",
   "execution_count": null,
   "id": "49411b7e",
   "metadata": {},
   "outputs": [],
   "source": [
    "\n",
    "from peakutils.plot import plot as pplot\n",
    "from matplotlib import pyplot\n",
    "%matplotlib inline\n",
    "\n",
    "data = df[' i1/A']\n",
    "\n",
    "peaks = peakutils.indexes(data, thres=0.5)\n",
    "\n",
    "pyplot.figure(figsize=(10,6))\n",
    "pplot(data.index, data, peaks)\n",
    "pyplot.title('First estimate')\n",
    "print(f\"Peaks: {peaks}\")"
   ]
  }
 ],
 "metadata": {
  "kernelspec": {
   "display_name": "Python 3 (ipykernel)",
   "language": "python",
   "name": "python3"
  },
  "language_info": {
   "codemirror_mode": {
    "name": "ipython",
    "version": 3
   },
   "file_extension": ".py",
   "mimetype": "text/x-python",
   "name": "python",
   "nbconvert_exporter": "python",
   "pygments_lexer": "ipython3",
   "version": "3.10.10"
  }
 },
 "nbformat": 4,
 "nbformat_minor": 5
}
