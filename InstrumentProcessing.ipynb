{
 "cells": [
  {
   "cell_type": "code",
   "execution_count": null,
   "id": "1510a0fb",
   "metadata": {},
   "outputs": [],
   "source": [
    "# After importing the data, there are\n",
    "\n",
    "# 8 measurements in the file\n",
    "# The steps are, for each of the measurements:\n",
    "# 1. Plot each measurement\n",
    "# 2. Perform baseline subtractions\n",
    "# 3. Determine the peaks\n",
    "# 4. For each peak:\n",
    "#    a. Find the the maximum value (beginning/end of peak?)\n",
    "#    b. The integral of the peak\n",
    "#    c. The time at which the peak reaches its maximum value.  (??)\n",
    "# 5. Output the calculated data to a file, and plot it data."
   ]
  },
  {
   "cell_type": "markdown",
   "id": "b7f0de40",
   "metadata": {},
   "source": [
    " # Import the data file, subtract baselines"
   ]
  },
  {
   "cell_type": "code",
   "execution_count": null,
   "id": "f6dcfe65",
   "metadata": {},
   "outputs": [],
   "source": [
    "import pandas as pd\n",
    "import lab_toolbox\n",
    "\n",
    "# Import data\n",
    "df = pd.read_csv(\"Example_input.txt\", header=25)\n",
    "df.set_index('Time/s', inplace=True)\n",
    "df.columns = df.columns.str.strip()  # Strip whitespace from the columns\n",
    "\n",
    "# Create a structure to hold all of the measurements (i1/A, i2/A, ...)\n",
    "measurements = {}\n",
    "for col in df.columns:\n",
    "    x = lab_toolbox.Measurement(col, df[col])\n",
    "    measurements[x.name] = x\n",
    "    \n",
    "# Remove baseline\n",
    "lab_toolbox.filter_baseline_interactively(measurements)"
   ]
  },
  {
   "cell_type": "markdown",
   "id": "730d8ac8",
   "metadata": {},
   "source": [
    "# Select start:end of peak"
   ]
  },
  {
   "cell_type": "code",
   "execution_count": null,
   "id": "acecd928",
   "metadata": {
    "scrolled": false
   },
   "outputs": [],
   "source": [
    "samples = 3  # Get user's input here. This represents the amount of samples taken during the data recording\n",
    "lab_toolbox.integrate_peaks_interactively(measurements, samples=samples)"
   ]
  },
  {
   "cell_type": "markdown",
   "id": "e358b664",
   "metadata": {},
   "source": [
    "# Find the peaks in the data"
   ]
  },
  {
   "cell_type": "markdown",
   "id": "3fff44fb",
   "metadata": {},
   "source": [
    "# Output the data to a CSV file"
   ]
  }
 ],
 "metadata": {
  "kernelspec": {
   "display_name": "Python 3 (ipykernel)",
   "language": "python",
   "name": "python3"
  },
  "language_info": {
   "codemirror_mode": {
    "name": "ipython",
    "version": 3
   },
   "file_extension": ".py",
   "mimetype": "text/x-python",
   "name": "python",
   "nbconvert_exporter": "python",
   "pygments_lexer": "ipython3",
   "version": "3.10.10"
  }
 },
 "nbformat": 4,
 "nbformat_minor": 5
}
