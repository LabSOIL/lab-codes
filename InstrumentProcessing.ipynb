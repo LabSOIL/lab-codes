{
 "cells": [
  {
   "cell_type": "markdown",
   "id": "b7f0de40",
   "metadata": {},
   "source": [
    " # Import the data file, subtract baselines"
   ]
  },
  {
   "cell_type": "code",
   "execution_count": null,
   "id": "1aeeb960",
   "metadata": {},
   "outputs": [],
   "source": [
    "from lab_toolbox import lab_toolbox\n",
    "\n",
    "measurements = lab_toolbox.import_data(\"./tests/resources/Example_input.txt\")\n",
    "\n",
    "    \n",
    "''' Remove baseline, default is linear between first and last points. Select more points\n",
    "    interactively, or remove them by zooming and clicking on them again. The style of \n",
    "    interpolation can be changed to: ‘linear’, ‘nearest’, ‘nearest-up’, ‘zero’, \n",
    "    ‘slinear’, ‘quadratic’, ‘cubic’, ‘previous’ (scipy.interpolate.interp1d)\n",
    "    \n",
    "    If method is not linear, interpolation will behave as linear until minimum of 4 \n",
    "    points are selected (including start and end)\n",
    "'''\n",
    "lab_toolbox.filter_baseline_interactively(measurements, interpolation_method='linear')"
   ]
  },
  {
   "cell_type": "markdown",
   "id": "a566395c",
   "metadata": {},
   "source": [
    "# Select start:end of peak"
   ]
  },
  {
   "cell_type": "code",
   "execution_count": null,
   "id": "9ef906bf",
   "metadata": {},
   "outputs": [],
   "source": [
    "# Enter the amount of samples taken during the data recording\n",
    "samples = 2  \n",
    "\n",
    "# Select integrations of peaks\n",
    "lab_toolbox.integrate_peaks_interactively(measurements, samples=samples, integration_method='trapz')"
   ]
  },
  {
   "cell_type": "markdown",
   "id": "454949c8",
   "metadata": {},
   "source": [
    "# Save data and plots to output folder"
   ]
  },
  {
   "cell_type": "code",
   "execution_count": null,
   "id": "fa935ab2",
   "metadata": {},
   "outputs": [],
   "source": [
    "lab_toolbox.output_data(measurements, samples, 'output')"
   ]
  }
 ],
 "metadata": {
  "kernelspec": {
   "display_name": "Python 3 (ipykernel)",
   "language": "python",
   "name": "python3"
  },
  "language_info": {
   "codemirror_mode": {
    "name": "ipython",
    "version": 3
   },
   "file_extension": ".py",
   "mimetype": "text/x-python",
   "name": "python",
   "nbconvert_exporter": "python",
   "pygments_lexer": "ipython3",
   "version": "3.11.3"
  }
 },
 "nbformat": 4,
 "nbformat_minor": 5
}
