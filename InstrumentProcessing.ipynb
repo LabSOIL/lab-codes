{
 "cells": [
  {
   "cell_type": "markdown",
   "id": "b7f0de40",
   "metadata": {},
   "source": [
    " # Import the data file, subtract baselines"
   ]
  },
  {
   "cell_type": "code",
   "execution_count": null,
   "id": "1aeeb960",
   "metadata": {},
   "outputs": [],
   "source": [
    "import pandas as pd\n",
    "import lab_toolbox\n",
    "\n",
    "\n",
    "# Import data\n",
    "df = pd.read_csv(\"Example_input.txt\", header=25)\n",
    "df.set_index('Time/s', inplace=True)\n",
    "df.columns = df.columns.str.strip()  # Strip whitespace from the columns\n",
    "\n",
    "# Create a structure to hold all of the measurements (i1/A, i2/A, ...)\n",
    "measurements = {}\n",
    "for col in df.columns:\n",
    "    x = lab_toolbox.Measurement(col, df[col])\n",
    "    measurements[x.name] = x\n",
    "    \n",
    "# Remove baseline\n",
    "lab_toolbox.filter_baseline_interactively(measurements)"
   ]
  },
  {
   "cell_type": "markdown",
   "id": "a566395c",
   "metadata": {},
   "source": [
    "# Select start:end of peak"
   ]
  },
  {
   "cell_type": "code",
   "execution_count": null,
   "id": "9ef906bf",
   "metadata": {
    "scrolled": false
   },
   "outputs": [],
   "source": [
    "samples = 3  # Get user's input here. This represents the amount of samples taken during the data recording\n",
    "\n",
    "# Select integrations of peaks\n",
    "lab_toolbox.integrate_peaks_interactively(measurements, samples=samples, integration_method='trapz')"
   ]
  },
  {
   "cell_type": "markdown",
   "id": "454949c8",
   "metadata": {},
   "source": [
    "# Save data and plots to output folder"
   ]
  },
  {
   "cell_type": "code",
   "execution_count": null,
   "id": "fa935ab2",
   "metadata": {},
   "outputs": [],
   "source": [
    "lab_toolbox.output_data(measurements, samples, 'output')"
   ]
  }
 ],
 "metadata": {
  "kernelspec": {
   "display_name": "Python 3 (ipykernel)",
   "language": "python",
   "name": "python3"
  },
  "language_info": {
   "codemirror_mode": {
    "name": "ipython",
    "version": 3
   },
   "file_extension": ".py",
   "mimetype": "text/x-python",
   "name": "python",
   "nbconvert_exporter": "python",
   "pygments_lexer": "ipython3",
   "version": "3.10.10"
  }
 },
 "nbformat": 4,
 "nbformat_minor": 5
}
